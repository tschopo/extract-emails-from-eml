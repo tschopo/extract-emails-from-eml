{
 "cells": [
  {
   "cell_type": "code",
   "execution_count": null,
   "metadata": {},
   "outputs": [],
   "source": [
    "import os\n",
    "import glob\n",
    "import re\n",
    "import eml_parser\n",
    "import json\n",
    "import datetime\n",
    "import sys"
   ]
  },
  {
   "cell_type": "code",
   "execution_count": null,
   "metadata": {},
   "outputs": [],
   "source": [
    "def json_serial(obj):\n",
    "    if isinstance(obj, datetime.datetime):\n",
    "        serial = obj.isoformat()\n",
    "        return serial\n",
    "    \n",
    "def find_email(string):\n",
    "    #print(type(string))\n",
    "    #print(string)\n",
    "    \n",
    "    if type(string) is str:\n",
    "        return re.findall(r'[\\w\\.-]+@[\\w\\.-]+\\.\\w+', string)\n",
    "    elif type(string) is list:\n",
    "        res = []\n",
    "        for x in string:\n",
    "            res += re.findall(r'[\\w\\.-]+@[\\w\\.-]+\\.\\w+', x)\n",
    "        return res\n",
    "    else:\n",
    "        print(\"error\")\n",
    "        return []\n",
    "\n",
    "emails = []\n",
    "\n",
    "counter = 0\n",
    "for file in glob.iglob('emails/*.eml'):\n",
    "    with open(file,'rb') as f:\n",
    "        raw_email = f.read()\n",
    "        parsed_eml = eml_parser.eml_parser.decode_email_b(raw_email,include_raw_body=True)\n",
    "        \n",
    "        #try:\n",
    "        \n",
    "        for body in parsed_eml['body']:\n",
    "            emails += find_email(body['content'])\n",
    "        emails += find_email(parsed_eml['header']['from'])\n",
    "        emails += find_email(parsed_eml['header']['to'])\n",
    "        #except:\n",
    "         #   print(\"Oops!\",sys.exc_info()[0],\"occured.\")\n",
    "            #print(json.dumps(parsed_eml, default=json_serial))\n",
    "            #break\n",
    "        \n",
    "    if counter == 105:\n",
    "        print(json.dumps(parsed_eml, default=json_serial))\n",
    "        pass\n",
    "        #break\n",
    "\n",
    "    counter += 1\n",
    "#emails += re.findall(r'[\\w\\.-]+@[\\w\\.-]+\\.\\w+', line)"
   ]
  },
  {
   "cell_type": "code",
   "execution_count": null,
   "metadata": {},
   "outputs": [],
   "source": [
    "counter"
   ]
  },
  {
   "cell_type": "code",
   "execution_count": null,
   "metadata": {},
   "outputs": [],
   "source": [
    "emails_gefiltert = list(set(emails))"
   ]
  },
  {
   "cell_type": "code",
   "execution_count": null,
   "metadata": {},
   "outputs": [],
   "source": [
    "with open('emails.txt', 'w') as f:\n",
    "    for email in sorted(emails_gefiltert):\n",
    "        f.write(\"%s\\n\" % email)"
   ]
  },
  {
   "cell_type": "code",
   "execution_count": null,
   "metadata": {},
   "outputs": [],
   "source": []
  },
  {
   "cell_type": "code",
   "execution_count": null,
   "metadata": {},
   "outputs": [],
   "source": [
    "emails_gefiltert"
   ]
  },
  {
   "cell_type": "code",
   "execution_count": null,
   "metadata": {},
   "outputs": [],
   "source": [
    "counter"
   ]
  },
  {
   "cell_type": "code",
   "execution_count": null,
   "metadata": {},
   "outputs": [],
   "source": []
  }
 ],
 "metadata": {
  "kernelspec": {
   "display_name": "Python 3",
   "language": "python",
   "name": "python3"
  },
  "language_info": {
   "codemirror_mode": {
    "name": "ipython",
    "version": 3
   },
   "file_extension": ".py",
   "mimetype": "text/x-python",
   "name": "python",
   "nbconvert_exporter": "python",
   "pygments_lexer": "ipython3",
   "version": "3.7.3"
  }
 },
 "nbformat": 4,
 "nbformat_minor": 2
}
